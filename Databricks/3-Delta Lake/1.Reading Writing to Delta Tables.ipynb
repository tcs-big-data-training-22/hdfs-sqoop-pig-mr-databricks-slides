{
 "cells": [
  {
   "cell_type": "code",
   "execution_count": null,
   "metadata": {
    "application/vnd.databricks.v1+cell": {
     "inputWidgets": {},
     "nuid": "fcca4caa-d221-42d2-a3ae-48607cf5b788",
     "showTitle": false,
     "title": ""
    }
   },
   "outputs": [],
   "source": [
    "storageAccount=\"agdbtrngaadass2storage\"\n",
    "mountpoint = \"/mnt/Gen2Source\"\n",
    "storageEndPoint =\"abfss://rawdata@{}.dfs.core.windows.net/\".format(storageAccount)\n",
    "print ('Mount Point ='+mountpoint)\n",
    "\n",
    "#ClientId, TenantId and Secret is for the Application(ADLSGen2App) was have created as part of this recipe\n",
    "clientID =\"xxxxx69-xx6e-4xxb-b6fa-a9sdad221210db\"\n",
    "tenantID =\"\"\n",
    "clientSecret =\"\"\n",
    "oauth2Endpoint = \"https://login.microsoftonline.com/{}/oauth2/token\".format(tenantID)\n",
    "\n",
    "\n",
    "configs = {\"fs.azure.account.auth.type\": \"OAuth\",\n",
    "           \"fs.azure.account.oauth.provider.type\": \"org.apache.hadoop.fs.azurebfs.oauth2.ClientCredsTokenProvider\",\n",
    "           \"fs.azure.account.oauth2.client.id\": clientID,\n",
    "           \"fs.azure.account.oauth2.client.secret\": clientSecret,\n",
    "           \"fs.azure.account.oauth2.client.endpoint\": oauth2Endpoint}\n",
    "\n",
    "try:\n",
    "  dbutils.fs.mount(\n",
    "  source = storageEndPoint,\n",
    "  mount_point = mountpoint,\n",
    "  extra_configs = configs)\n",
    "except:\n",
    "    print(\"Already mounted....\"+mountpoint)\n"
   ]
  },
  {
   "cell_type": "code",
   "execution_count": null,
   "metadata": {
    "application/vnd.databricks.v1+cell": {
     "inputWidgets": {},
     "nuid": "df44a971-38fc-4044-845b-5406fd638d0d",
     "showTitle": false,
     "title": ""
    }
   },
   "outputs": [],
   "source": [
    "display(dbutils.fs.ls(\"/mnt/Gen2Source/Customer/parquetFiles\"))"
   ]
  },
  {
   "cell_type": "code",
   "execution_count": null,
   "metadata": {
    "application/vnd.databricks.v1+cell": {
     "inputWidgets": {},
     "nuid": "d1ef5a62-2905-4b0a-a87e-d66b57f59d91",
     "showTitle": false,
     "title": ""
    }
   },
   "outputs": [],
   "source": [
    "db = \"tpchdb\"\n",
    " \n",
    "spark.sql(f\"CREATE DATABASE IF NOT EXISTS {db}\")\n",
    "spark.sql(f\"USE {db}\")\n",
    " \n",
    "spark.sql(\"SET spark.databricks.delta.formatCheck.enabled = false\")\n",
    "spark.sql(\"SET spark.databricks.delta.properties.defaults.autoOptimize.optimizeWrite = true\")"
   ]
  },
  {
   "cell_type": "code",
   "execution_count": null,
   "metadata": {
    "application/vnd.databricks.v1+cell": {
     "inputWidgets": {},
     "nuid": "37c068af-5038-43f8-b03d-083a2c2cc358",
     "showTitle": false,
     "title": ""
    }
   },
   "outputs": [],
   "source": [
    "import random\n",
    "from datetime import datetime\n",
    "from pyspark.sql.functions import *\n",
    "from pyspark.sql.types import *\n",
    "from delta.tables import *\n",
    "  "
   ]
  },
  {
   "cell_type": "markdown",
   "metadata": {
    "application/vnd.databricks.v1+cell": {
     "inputWidgets": {},
     "nuid": "c0f1cc5a-038d-4163-86e5-18192a990b08",
     "showTitle": false,
     "title": ""
    }
   },
   "source": [
    "### Reading Customer parquet files from the mount point and writing to Delta tables."
   ]
  },
  {
   "cell_type": "code",
   "execution_count": null,
   "metadata": {
    "application/vnd.databricks.v1+cell": {
     "inputWidgets": {},
     "nuid": "803e20e2-8fc2-4037-9e78-1bb95e969f5a",
     "showTitle": false,
     "title": ""
    }
   },
   "outputs": [],
   "source": [
    "#Reading parquet files and adding a new column to the dataframe and writing to delta table\n",
    "cust_path = \"/mnt/Gen2Source/Customer/parquetFiles\"\n",
    " \n",
    "df_cust = (spark.read.format(\"parquet\").load(cust_path)\n",
    "      .withColumn(\"timestamp\", current_timestamp()))\n",
    " \n",
    "df_cust.write.format(\"delta\").mode(\"overwrite\").save(\"/mnt/Gen2Source/Customer/delta\")"
   ]
  },
  {
   "cell_type": "code",
   "execution_count": null,
   "metadata": {
    "application/vnd.databricks.v1+cell": {
     "inputWidgets": {},
     "nuid": "f3db9b93-91fd-4de1-8530-9fd2ef82f232",
     "showTitle": false,
     "title": ""
    }
   },
   "outputs": [],
   "source": [
    "%sql\n",
    "-- Creating Delta table \n",
    "DROP TABLE IF EXISTS Customer;\n",
    "CREATE TABLE Customer\n",
    "USING delta\n",
    "location \"/mnt/Gen2Source/Customer/delta\""
   ]
  },
  {
   "cell_type": "code",
   "execution_count": null,
   "metadata": {
    "application/vnd.databricks.v1+cell": {
     "inputWidgets": {},
     "nuid": "8d90902c-54c7-4305-93f1-d16c3f8b63f1",
     "showTitle": false,
     "title": ""
    }
   },
   "outputs": [],
   "source": [
    "%sql\n",
    "describe formatted Customer"
   ]
  },
  {
   "cell_type": "code",
   "execution_count": null,
   "metadata": {
    "application/vnd.databricks.v1+cell": {
     "inputWidgets": {},
     "nuid": "c39407a0-e0fd-41dd-b673-8eaf5dfdeda1",
     "showTitle": false,
     "title": ""
    }
   },
   "outputs": [],
   "source": [
    "%sql\n",
    "select * from Customer limit 10;"
   ]
  },
  {
   "cell_type": "code",
   "execution_count": null,
   "metadata": {
    "application/vnd.databricks.v1+cell": {
     "inputWidgets": {},
     "nuid": "30dcda6f-4031-41f6-8254-9aeb590fc4d9",
     "showTitle": false,
     "title": ""
    }
   },
   "outputs": [],
   "source": [
    "%fs ls /mnt/Gen2Source/Orders/parquetFiles/"
   ]
  },
  {
   "cell_type": "code",
   "execution_count": null,
   "metadata": {
    "application/vnd.databricks.v1+cell": {
     "inputWidgets": {},
     "nuid": "f5d2f1de-7b23-4407-93da-7a5992cc91ba",
     "showTitle": false,
     "title": ""
    }
   },
   "outputs": [],
   "source": [
    "#Reading Orders parquet files and adding a new column to the dataframe and writing as delta format. Creating partition on year column.\n",
    "ord_path = \"/mnt/Gen2Source/Orders/parquetFiles\"\n",
    " \n",
    "df_ord = (spark.read.format(\"parquet\").load(ord_path)\n",
    "      .withColumn(\"timestamp\", current_timestamp())\n",
    "      .withColumn(\"O_OrderDateYear\", year(col(\"O_OrderDate\")))\n",
    "     )\n",
    "\n",
    "# df.printSchema()\n",
    " \n",
    "df_ord.write.format(\"delta\").partitionBy(\"O_OrderDateYear\").mode(\"overwrite\").save(\"/mnt/Gen2Source/Orders/delta\")"
   ]
  },
  {
   "cell_type": "code",
   "execution_count": null,
   "metadata": {
    "application/vnd.databricks.v1+cell": {
     "inputWidgets": {},
     "nuid": "d7f51561-5c25-45d4-bafa-7766b3b2d059",
     "showTitle": false,
     "title": ""
    }
   },
   "outputs": [],
   "source": [
    "%sql\n",
    "DROP TABLE IF EXISTS Orders;\n",
    "CREATE TABLE Orders\n",
    "USING delta\n",
    "location \"/mnt/Gen2Source/Orders/delta\""
   ]
  },
  {
   "cell_type": "code",
   "execution_count": null,
   "metadata": {
    "application/vnd.databricks.v1+cell": {
     "inputWidgets": {},
     "nuid": "c0d7785a-1910-4db6-be41-239df701cf74",
     "showTitle": false,
     "title": ""
    }
   },
   "outputs": [],
   "source": [
    "%sql\n",
    "describe formatted Orders"
   ]
  },
  {
   "cell_type": "code",
   "execution_count": null,
   "metadata": {
    "application/vnd.databricks.v1+cell": {
     "inputWidgets": {},
     "nuid": "986422c9-d5bd-4d49-baa0-891f6169d7f7",
     "showTitle": false,
     "title": ""
    }
   },
   "outputs": [],
   "source": [
    "%sql\n",
    "-- Getting total customer based on priority and total account balance by joing the delta tables\n",
    "SELECT o.O_ORDERPRIORITY,count(o.O_CustKey) As TotalCustomer,Sum(c.C_AcctBal) As CustAcctBal\n",
    "FROM Orders o \n",
    "INNER JOIN Customer c on o.O_CustKey=c.C_CustKey \n",
    "WHERE o.O_OrderDateYear>1997\n",
    "GROUP BY o.O_OrderPriority\n",
    "ORDER BY TotalCustomer DESC;\n",
    "\n"
   ]
  },
  {
   "cell_type": "code",
   "execution_count": null,
   "metadata": {
    "application/vnd.databricks.v1+cell": {
     "inputWidgets": {},
     "nuid": "11e569a1-1327-40bc-855e-8ecc0bee2240",
     "showTitle": false,
     "title": ""
    }
   },
   "outputs": [],
   "source": [
    "# We can read the Delta files in Python using DeltaTable libraries as shown below \n",
    "deltaTable = DeltaTable.forPath(spark, \"/mnt/Gen2Source/Orders/delta/\")"
   ]
  },
  {
   "cell_type": "code",
   "execution_count": null,
   "metadata": {
    "application/vnd.databricks.v1+cell": {
     "inputWidgets": {},
     "nuid": "8badc858-6bc9-421d-acd5-d1db0787ac75",
     "showTitle": false,
     "title": ""
    }
   },
   "outputs": [],
   "source": [
    "#Converting to DF and viewing dataframe contents\n",
    "dt=deltaTable.toDF()\n",
    "dt.show()"
   ]
  },
  {
   "cell_type": "markdown",
   "metadata": {
    "application/vnd.databricks.v1+cell": {
     "inputWidgets": {},
     "nuid": "8d9d0812-82cf-4976-9bee-d71efedd7edb",
     "showTitle": false,
     "title": ""
    }
   },
   "source": [
    "### DML Support in Delta Table.\n",
    "  We can perform DML opreations like insert,delete and updates to the Delta table."
   ]
  },
  {
   "cell_type": "code",
   "execution_count": null,
   "metadata": {
    "application/vnd.databricks.v1+cell": {
     "inputWidgets": {},
     "nuid": "38d3c5d0-b624-41c5-922a-5f8233cfc7f5",
     "showTitle": false,
     "title": ""
    }
   },
   "outputs": [],
   "source": [
    "# Reading new data which is in the folder newParquetFiles in the same orders folder in the /nnt/Gen2Source\n",
    "# We will see how to perform merge to insert anf update the records in the delta table.\n",
    "\n",
    "#Reading Orders parquet files and adding a new column to the dataframe and writing as delta format. Creating partition on year column.\n",
    "new_ord_path = \"/mnt/Gen2Source/Orders/newParquetFiles\"\n",
    " \n",
    "df_new_order = (spark.read.format(\"parquet\").load(new_ord_path)\n",
    "      .withColumn(\"timestamp\", current_timestamp())\n",
    "      .withColumn(\"O_OrderDateYear\", year(col(\"O_OrderDate\")))\n",
    "     )\n",
    "\n",
    "# df.printSchema()\n",
    " \n",
    "df_new_order.write.format(\"delta\").partitionBy(\"O_OrderDateYear\").mode(\"overwrite\").save(\"/mnt/Gen2Source/Orders/dailydata_delta\")\n",
    "\n"
   ]
  },
  {
   "cell_type": "code",
   "execution_count": null,
   "metadata": {
    "application/vnd.databricks.v1+cell": {
     "inputWidgets": {},
     "nuid": "756db60e-3422-42b8-8198-f851dcabf1fa",
     "showTitle": false,
     "title": ""
    }
   },
   "outputs": [],
   "source": [
    "%sql\n",
    "DROP TABLE IF EXISTS Orders_Daily;\n",
    "CREATE TABLE Orders_Daily\n",
    "USING delta\n",
    "location \"/mnt/Gen2Source/Orders/dailydata_delta\""
   ]
  },
  {
   "cell_type": "code",
   "execution_count": null,
   "metadata": {
    "application/vnd.databricks.v1+cell": {
     "inputWidgets": {},
     "nuid": "aa375bba-a38a-4995-8b49-237f7e99fc23",
     "showTitle": false,
     "title": ""
    }
   },
   "outputs": [],
   "source": [
    "%sql\n",
    "-- Merging into Orders from Orders_Daily table. If records matche on OrderKey then perform update eles insert\n",
    "MERGE INTO Orders AS o\n",
    "USING Orders_daily AS d\n",
    "ON o.O_ORDERKEY = D.O_ORDERKEY\n",
    "WHEN MATCHED THEN \n",
    "  UPDATE SET *\n",
    "WHEN NOT MATCHED \n",
    "  THEN INSERT *;"
   ]
  },
  {
   "cell_type": "code",
   "execution_count": null,
   "metadata": {
    "application/vnd.databricks.v1+cell": {
     "inputWidgets": {},
     "nuid": "70729f1a-2607-4536-aaef-4b9f2780229a",
     "showTitle": false,
     "title": ""
    }
   },
   "outputs": [],
   "source": [
    "%sql\n",
    "-- Deleting from Delta table\n",
    "DELETE FROM Orders WHERE O_ORDERKEY=1359427"
   ]
  },
  {
   "cell_type": "code",
   "execution_count": null,
   "metadata": {
    "application/vnd.databricks.v1+cell": {
     "inputWidgets": {},
     "nuid": "744c1161-f96d-4f2c-8c8c-ccb9ce35f930",
     "showTitle": false,
     "title": ""
    }
   },
   "outputs": [],
   "source": [
    "%sql\n",
    "SELECT * FROM ORDERS WHERE O_ORDERKEY=1359427"
   ]
  },
  {
   "cell_type": "code",
   "execution_count": null,
   "metadata": {
    "application/vnd.databricks.v1+cell": {
     "inputWidgets": {},
     "nuid": "87bb8b7c-8df8-45e8-9330-12de6cb42dc5",
     "showTitle": false,
     "title": ""
    }
   },
   "outputs": [],
   "source": [
    "%fs ls /mnt/Gen2Source/Orders/ParquetOutputFormatted"
   ]
  },
  {
   "cell_type": "code",
   "execution_count": null,
   "metadata": {
    "application/vnd.databricks.v1+cell": {
     "inputWidgets": {},
     "nuid": "2c20fc50-5e69-467d-9721-bf088f39f576",
     "showTitle": false,
     "title": ""
    }
   },
   "outputs": [],
   "source": [
    "%sql CONVERT TO DELTA parquet.`dbfs:/mnt/Gen2Source/Orders/ParquetOutputFormatted`"
   ]
  },
  {
   "cell_type": "code",
   "execution_count": null,
   "metadata": {
    "application/vnd.databricks.v1+cell": {
     "inputWidgets": {},
     "nuid": "c6aadf8f-0a40-4f43-a418-7101b7418a6c",
     "showTitle": false,
     "title": ""
    }
   },
   "outputs": [],
   "source": [
    "%sql\n",
    "CREATE TABLE Orders_Test\n",
    "USING DELTA\n",
    "LOCATION \"/mnt/Gen2Source/Orders/ParquetOutputFormatted\""
   ]
  },
  {
   "cell_type": "code",
   "execution_count": null,
   "metadata": {
    "application/vnd.databricks.v1+cell": {
     "inputWidgets": {},
     "nuid": "eb67d33c-1ac2-4223-b511-ea86f0623d88",
     "showTitle": false,
     "title": ""
    }
   },
   "outputs": [],
   "source": [
    "%sql\n",
    "describe formatted Orders_Test"
   ]
  },
  {
   "cell_type": "code",
   "execution_count": null,
   "metadata": {
    "application/vnd.databricks.v1+cell": {
     "inputWidgets": {},
     "nuid": "3101a6a4-9846-4d58-abf9-13d199652605",
     "showTitle": false,
     "title": ""
    }
   },
   "outputs": [],
   "source": [
    "#dbutils.fs.unmount(\"/mnt/Gen2Source\")"
   ]
  }
 ],
 "metadata": {
  "application/vnd.databricks.v1+notebook": {
   "dashboards": [],
   "language": "python",
   "notebookMetadata": {
    "pythonIndentUnit": 2
   },
   "notebookName": "6.1-Reading Writing to Delta Tables",
   "notebookOrigID": 2726723977265056,
   "widgets": {}
  },
  "kernelspec": {
   "display_name": "Python 3 (ipykernel)",
   "language": "python",
   "name": "python3"
  },
  "language_info": {
   "codemirror_mode": {
    "name": "ipython",
    "version": 3
   },
   "file_extension": ".py",
   "mimetype": "text/x-python",
   "name": "python",
   "nbconvert_exporter": "python",
   "pygments_lexer": "ipython3",
   "version": "3.9.12"
  }
 },
 "nbformat": 4,
 "nbformat_minor": 4
}
