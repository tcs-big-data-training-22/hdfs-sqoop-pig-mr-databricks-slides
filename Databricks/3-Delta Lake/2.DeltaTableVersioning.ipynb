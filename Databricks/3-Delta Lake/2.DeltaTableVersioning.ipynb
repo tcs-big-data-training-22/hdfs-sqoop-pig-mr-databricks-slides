{
 "cells": [
  {
   "cell_type": "code",
   "execution_count": null,
   "metadata": {
    "application/vnd.databricks.v1+cell": {
     "inputWidgets": {},
     "nuid": "c67e227e-fd50-47b5-b0e5-ab5bf9a02aa3",
     "showTitle": false,
     "title": ""
    }
   },
   "outputs": [],
   "source": [
    "display(spark.sql(\"DESCRIBE HISTORY customerdelta\"))"
   ]
  },
  {
   "cell_type": "code",
   "execution_count": null,
   "metadata": {
    "application/vnd.databricks.v1+cell": {
     "inputWidgets": {},
     "nuid": "001e7bc7-af9e-48da-a9c3-00a784715aeb",
     "showTitle": false,
     "title": ""
    }
   },
   "outputs": [],
   "source": [
    "# Total rows currently CustomerDelta table = 2,850,000\n",
    "df = spark.read \\\n",
    "  .format(\"delta\") \\\n",
    "  .load(\"/mnt/Gen2Source/CustomerDelta/\")\n",
    "print(df.count())"
   ]
  },
  {
   "cell_type": "code",
   "execution_count": null,
   "metadata": {
    "application/vnd.databricks.v1+cell": {
     "inputWidgets": {},
     "nuid": "86fe17c0-27d8-4d6d-a9d1-0c4713b7a5b6",
     "showTitle": false,
     "title": ""
    }
   },
   "outputs": [],
   "source": [
    "# Let's read using timestampAsOf to count the number of rows\n",
    "df = spark.read \\\n",
    "  .format(\"delta\") \\\n",
    "  .option(\"timestampAsOf\", \"2021-08-08T11:10:55.000+0000\") \\\n",
    "  .load(\"/mnt/Gen2Source/CustomerDelta/\")\n",
    "\n",
    "print(df.count())"
   ]
  },
  {
   "cell_type": "code",
   "execution_count": null,
   "metadata": {
    "application/vnd.databricks.v1+cell": {
     "inputWidgets": {},
     "nuid": "6f3d4652-1647-48af-96f1-ae75b9e92e84",
     "showTitle": false,
     "title": ""
    }
   },
   "outputs": [],
   "source": [
    "%sql\n",
    "SELECT * FROM CustomerDelta TIMESTAMP AS OF \"2021-08-08T11:10:55.000+0000\" limit 50;"
   ]
  },
  {
   "cell_type": "code",
   "execution_count": null,
   "metadata": {
    "application/vnd.databricks.v1+cell": {
     "inputWidgets": {},
     "nuid": "36a92ebe-a0b4-4856-85f9-b97aa48e0c01",
     "showTitle": false,
     "title": ""
    }
   },
   "outputs": [],
   "source": [
    "df = spark.read \\\n",
    "  .format(\"delta\") \\\n",
    "  .option(\"versionAsOf\", \"1\") \\\n",
    "  .load(\"/mnt/Gen2Source/CustomerDelta/\")\n",
    "print(df.count())"
   ]
  },
  {
   "cell_type": "code",
   "execution_count": null,
   "metadata": {
    "application/vnd.databricks.v1+cell": {
     "inputWidgets": {},
     "nuid": "1b9e2449-008e-4c09-82d1-ccb80df12c52",
     "showTitle": false,
     "title": ""
    }
   },
   "outputs": [],
   "source": [
    "%sql\n",
    "SELECT count(*) FROM CustomerDelta VERSION AS OF 1 ;"
   ]
  },
  {
   "cell_type": "code",
   "execution_count": null,
   "metadata": {
    "application/vnd.databricks.v1+cell": {
     "inputWidgets": {},
     "nuid": "381de964-1056-45c8-a041-87a0dc79edfa",
     "showTitle": false,
     "title": ""
    }
   },
   "outputs": [],
   "source": [
    "%sql\n",
    "INSERT INTO CustomerDelta\n",
    "SELECT * FROM CustomerDelta TIMESTAMP AS OF \"2021-04-10T19:08:54.000+0000\"\n",
    "WHERE C_MKTSEGMENT = = 'BUILDING'"
   ]
  }
 ],
 "metadata": {
  "application/vnd.databricks.v1+notebook": {
   "dashboards": [],
   "language": "python",
   "notebookMetadata": {
    "pythonIndentUnit": 2
   },
   "notebookName": "6_7.DeltaTableVersioning",
   "notebookOrigID": 845488711599024,
   "widgets": {}
  },
  "kernelspec": {
   "display_name": "",
   "name": ""
  },
  "language_info": {
   "name": ""
  }
 },
 "nbformat": 4,
 "nbformat_minor": 4
}
